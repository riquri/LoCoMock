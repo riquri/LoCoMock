{
 "cells": [
  {
   "cell_type": "markdown",
   "id": "6951e168-585b-426c-8bd9-bbbef8a1e14e",
   "metadata": {},
   "source": [
    "# LoCoMock (LogP-corrected Membrane Docking)\n",
    "\n",
    "This program is a modified extension of Jupyter_Dock[https://github.com/AngelRuizMoreno/Jupyter_Dock].\n",
    "\n",
    "Place this notebook on the \"Jupyter_Dock\" directory."
   ]
  },
  {
   "cell_type": "code",
   "execution_count": null,
   "id": "756603a6-b74c-48e2-a532-0a1a26c56d53",
   "metadata": {},
   "outputs": [],
   "source": [
    "from pymol import cmd\n",
    "import py3Dmol\n",
    "\n",
    "from vina import Vina\n",
    "\n",
    "from openbabel import pybel\n",
    "\n",
    "from rdkit import Chem\n",
    "from rdkit.Chem import AllChem, Draw, rdCoordGen\n",
    "from rdkit.ML.Cluster import Butina\n",
    "\n",
    "import sys, os\n",
    "import shutil\n",
    "sys.path.insert(1, 'utilities/')\n",
    "from utils import fix_protein, getbox, generate_ledock_file, pdbqt_to_sdf, dok_to_sdf\n",
    "\n",
    "import glob\n",
    "\n",
    "import matplotlib\n",
    "import matplotlib.pyplot as plt\n",
    "\n",
    "import numpy as np\n",
    "\n",
    "import warnings\n",
    "warnings.filterwarnings(\"ignore\")\n",
    "%config Completer.use_jedi = False"
   ]
  },
  {
   "cell_type": "markdown",
   "id": "a774a9fd",
   "metadata": {},
   "source": [
    "## Plot Settings"
   ]
  },
  {
   "cell_type": "code",
   "execution_count": null,
   "id": "3f1ac2d1",
   "metadata": {},
   "outputs": [],
   "source": [
    "matplotlib.rcParams['pdf.fonttype'] = 42\n",
    "matplotlib.rcParams['ps.fonttype'] = 42\n",
    "matplotlib.rcParams['font.size'] = 10\n",
    "matplotlib.rcParams['figure.dpi'] = 300\n",
    "matplotlib.rcParams['font.family'] = \"Helvetica\"\n",
    "\n",
    "matplotlib.rcParams.update({'figure.figsize': [83/25.4, 83/25.4]})"
   ]
  },
  {
   "cell_type": "markdown",
   "id": "5b0b52c2",
   "metadata": {},
   "source": [
    "## Project Settings"
   ]
  },
  {
   "cell_type": "code",
   "execution_count": null,
   "id": "72f4432c",
   "metadata": {},
   "outputs": [],
   "source": [
    "str_id = \"targetID\"\n",
    "n_poses = 1000\n",
    "membrane_pos = 14.7\n",
    "buffer = 4.7"
   ]
  },
  {
   "cell_type": "code",
   "execution_count": null,
   "id": "f34f98c3-1454-4f67-92b7-ce9cf054c333",
   "metadata": {},
   "outputs": [],
   "source": [
    "os.makedirs(f\"LoCoMock/LoCoMock_{str_id}/\", exist_ok=True)\n",
    "os.chdir(f\"LoCoMock/LoCoMock_{str_id}/\")"
   ]
  },
  {
   "cell_type": "markdown",
   "id": "3ac87e0b",
   "metadata": {},
   "source": [
    "# Prepare input"
   ]
  },
  {
   "cell_type": "markdown",
   "id": "3e0360ae",
   "metadata": {},
   "source": [
    "Please predict the orientation and membrane position for your protein at PPM server [https://opm.phar.umich.edu/ppm_server3].\n",
    "\n",
    "\n",
    "Place PDB files for protein (protein.pdb) and ligand (ligand.pdb) in the ./LoCoMock/{str_id} .\n",
    "\n",
    "\n",
    "The protein.pdb should contain the thickness of the membrane in the first line otherwise the default value 14.7 is used.\n",
    "\n",
    "\n",
    "Ex. \"REMARK      1/2 of bilayer thickness:   17.4\""
   ]
  },
  {
   "cell_type": "code",
   "execution_count": null,
   "id": "7f1d1ad0",
   "metadata": {
    "scrolled": true
   },
   "outputs": [],
   "source": [
    "protein_pdb = \"\"\n",
    "with open(f\"./protein.pdb\", \"r\") as f:\n",
    "    resn = None\n",
    "    chain_id = None\n",
    "    for line in f:\n",
    "        if \"bilayer\" in line:\n",
    "            membrane_pos = float(line.split()[5])\n",
    "        if \"ATOM\" in line and line[21]:\n",
    "            protein_pdb += line\n",
    "print(f\"The membrane position is {membrane_pos}\")"
   ]
  },
  {
   "cell_type": "code",
   "execution_count": null,
   "id": "7a2a5c5d",
   "metadata": {},
   "outputs": [],
   "source": [
    "with open(f\"./protein_clean.pdb\", \"w\") as f:\n",
    "    f.write(protein_pdb)"
   ]
  },
  {
   "cell_type": "markdown",
   "id": "7cf8fe9f",
   "metadata": {},
   "source": [
    "## Prepare Protein"
   ]
  },
  {
   "cell_type": "code",
   "execution_count": null,
   "id": "836973a5-248f-43ba-a1f9-345c2cded6b0",
   "metadata": {},
   "outputs": [],
   "source": [
    "!../../bin/lepro_linux_x86 {'protein_clean.pdb'}\n",
    "os.rename('pro.pdb','protein_H.pdb')"
   ]
  },
  {
   "cell_type": "markdown",
   "id": "29de6d4c",
   "metadata": {},
   "source": [
    "## Prepare Ligand"
   ]
  },
  {
   "cell_type": "code",
   "execution_count": null,
   "id": "60d4992d",
   "metadata": {},
   "outputs": [],
   "source": [
    "sdf_mol = pybel.readfile(\"pdb\", f\"./ligand.pdb\")\n",
    "for index,mol in enumerate(sdf_mol):\n",
    "    out=pybel.Outputfile(filename='./ligand.pdbqt', format='pdbqt',overwrite=True, opt={\"h\": 7.0})\n",
    "    mol.OBMol.AddHydrogens()\n",
    "    out.write(mol)\n",
    "    out.close()\n",
    "    \n",
    "    out=pybel.Outputfile(filename='./ligand_clean.pdb', format='pdb',overwrite=True, opt={\"h\": 7.0})\n",
    "    out.write(mol)\n",
    "    out.close()"
   ]
  },
  {
   "cell_type": "code",
   "execution_count": null,
   "id": "cb291e3b",
   "metadata": {},
   "outputs": [],
   "source": [
    "mol_noH = Chem.MolFromPDBFile(\"./ligand_clean.pdb\")\n",
    "mol = mol_noH\n",
    "rdCoordGen.AddCoords(mol)\n",
    "Draw.MolToImage(mol)"
   ]
  },
  {
   "cell_type": "code",
   "execution_count": null,
   "id": "7ef9ea4e",
   "metadata": {},
   "outputs": [],
   "source": [
    "from rdkit.Chem import Descriptors\n",
    "print(f\"The logP of the target ligand is {Descriptors.MolLogP(mol)}\")"
   ]
  },
  {
   "cell_type": "code",
   "execution_count": null,
   "id": "edda6720",
   "metadata": {
    "scrolled": false
   },
   "outputs": [],
   "source": [
    "from rdkit.Chem.Draw import SimilarityMaps\n",
    "from rdkit.Chem import rdMolDescriptors\n",
    "contribs = rdMolDescriptors._CalcCrippenContribs(mol)\n",
    "fig = SimilarityMaps.GetSimilarityMapFromWeights(mol,[x for x,y in contribs], colorMap='seismic', contourLines=0, sigma=0.02, size=(500,500))\n",
    "fig.savefig('ligand_logP.png',bbox_inches='tight', dpi=300) \n",
    "plt.show()"
   ]
  },
  {
   "cell_type": "markdown",
   "id": "f1db2b5f-d083-4640-8b29-8b6ee4ba2d37",
   "metadata": {},
   "source": [
    "## Input System Visualization"
   ]
  },
  {
   "cell_type": "code",
   "execution_count": null,
   "id": "77c37840-7880-4a12-84a3-feaeb794e726",
   "metadata": {},
   "outputs": [],
   "source": [
    "view = py3Dmol.view()\n",
    "view.removeAllModels()\n",
    "view.setViewStyle({'style':'outline','color':'black','width':0.1})\n",
    "\n",
    "view.addModel(open('protein_H.pdb','r').read(),format='pdb')\n",
    "Prot=view.getModel()\n",
    "Prot.setStyle({'cartoon':{'arrows':True, 'tubes':True, 'style':'oval', 'color':'white'}})\n",
    "view.addSurface(py3Dmol.VDW,{'opacity':0.6,'color':'white'})\n",
    "\n",
    "\n",
    "view.addModel(open(f\"./ligand.pdb\",'r').read(),format='pdb')\n",
    "ref_m = view.getModel()\n",
    "ref_m.setStyle({},{'stick':{'colorscheme':'greenCarbon','radius':0.2}})\n",
    "\n",
    "view.zoomTo()\n",
    "view.show()"
   ]
  },
  {
   "cell_type": "markdown",
   "id": "e4114eb4-1614-44df-b837-f695bd3ead01",
   "metadata": {},
   "source": [
    "# Docking with AutoDock Vina"
   ]
  },
  {
   "cell_type": "code",
   "execution_count": null,
   "id": "d182cce2-1805-42ff-bbdd-53e3b5a9fe75",
   "metadata": {},
   "outputs": [],
   "source": [
    "!../../bin/prepare_receptor -v -r protein_H.pdb -o protein_H.pdbqt"
   ]
  },
  {
   "cell_type": "code",
   "execution_count": null,
   "id": "2c1b8f34-3443-4656-8c2e-0de373df7aef",
   "metadata": {
    "scrolled": false
   },
   "outputs": [],
   "source": [
    "cmd.load(filename='protein_H.pdb',format='pdb',object='prot')\n",
    "cmd.load(filename='ligand.pdb',format='pdb',object='lig')\n",
    "\n",
    "center, size= getbox(selection='prot',extending=5.0,software='vina')\n",
    "\n",
    "#If you want to specify the docking area\n",
    "#center = {'center_x': 7.77, 'center_y': 7.77, 'center_z': 7.77}\n",
    "#size = {'size_x': 77.7, 'size_y': 77.7, 'size_z': 77.7}\n",
    "\n",
    "cmd.delete('all')\n",
    "\n",
    "print(center,'\\n',size)"
   ]
  },
  {
   "cell_type": "markdown",
   "id": "d9e3cd32-f577-4f76-b7e1-328a2f65c818",
   "metadata": {},
   "source": [
    "## Docking"
   ]
  },
  {
   "cell_type": "code",
   "execution_count": null,
   "id": "934410d5",
   "metadata": {},
   "outputs": [],
   "source": [
    "v = Vina(sf_name='vina')"
   ]
  },
  {
   "cell_type": "code",
   "execution_count": null,
   "id": "6704c5a9",
   "metadata": {},
   "outputs": [],
   "source": [
    "v.set_receptor('protein_H.pdbqt')"
   ]
  },
  {
   "cell_type": "code",
   "execution_count": null,
   "id": "b127fa96",
   "metadata": {},
   "outputs": [],
   "source": [
    "v.set_ligand_from_file('ligand.pdbqt')"
   ]
  },
  {
   "cell_type": "code",
   "execution_count": null,
   "id": "de26e600",
   "metadata": {},
   "outputs": [],
   "source": [
    "v.compute_vina_maps(center=[center['center_x'], center['center_y'], center['center_z']], \n",
    "                    box_size=[size['size_x'], size['size_y'], size['size_z']])"
   ]
  },
  {
   "cell_type": "code",
   "execution_count": null,
   "id": "62ebfc9f",
   "metadata": {},
   "outputs": [],
   "source": [
    "# Dock the ligand\n",
    "v.dock(exhaustiveness=10, n_poses=n_poses, min_rmsd=1)"
   ]
  },
  {
   "cell_type": "code",
   "execution_count": null,
   "id": "732c4d41-a58a-479f-95c5-024a48b4eae1",
   "metadata": {},
   "outputs": [],
   "source": [
    "v.write_poses('ligand_vina_out.pdbqt', n_poses=n_poses, overwrite=True, energy_range=500)\n",
    "vina_score = v.energies(n_poses=n_poses, energy_range=500)[:, 0]\n",
    "np.savetxt(\"vina_energy.txt\", vina_score)"
   ]
  },
  {
   "cell_type": "code",
   "execution_count": null,
   "id": "1b8121d0-2485-4865-8cd3-10c945aad530",
   "metadata": {},
   "outputs": [],
   "source": [
    "pdbqt_to_sdf(pdbqt_file='ligand_vina_out.pdbqt',output='ligand_vina_out.sdf')"
   ]
  },
  {
   "cell_type": "code",
   "execution_count": null,
   "id": "48193dce",
   "metadata": {},
   "outputs": [],
   "source": [
    "os.makedirs(\"./result_pdb\", exist_ok=True)"
   ]
  },
  {
   "cell_type": "code",
   "execution_count": null,
   "id": "fae013a3",
   "metadata": {},
   "outputs": [],
   "source": [
    "results = [m for m in pybel.readfile(filename='ligand_vina_out.pdbqt',format='pdbqt')]\n",
    "\n",
    "for index, pose in enumerate(results):\n",
    "    out=pybel.Outputfile(filename=f'./result_pdb/ligand_{index}.pdb',format='pdb',overwrite=True)\n",
    "    out.write(pose)\n",
    "out.close()"
   ]
  },
  {
   "cell_type": "code",
   "execution_count": null,
   "id": "dead5608",
   "metadata": {},
   "outputs": [],
   "source": [
    "from rdkit.Chem.Draw import SimilarityMaps\n",
    "from rdkit.Chem import rdMolDescriptors\n"
   ]
  },
  {
   "cell_type": "code",
   "execution_count": null,
   "id": "5f43524e",
   "metadata": {},
   "outputs": [],
   "source": [
    "fig = plt.figure(figsize=(83/25.4, 60/25.4))\n",
    "\n",
    "plt.hist(vina_score, bins=20, color=\"#EEEEEE\", edgecolor=\"black\", linewidth=0.5)\n",
    "plt.xlabel(\"Docking score (kcal/mol)\")\n",
    "plt.ylabel(\"Count\")\n",
    "plt.tight_layout()\n",
    "plt.savefig(\"Docking_score.pdf\", dpi=300)\n",
    "plt.show()"
   ]
  },
  {
   "cell_type": "markdown",
   "id": "e42aa6fe",
   "metadata": {},
   "source": [
    "# LoCoMock scoring"
   ]
  },
  {
   "cell_type": "code",
   "execution_count": null,
   "id": "daece330",
   "metadata": {
    "scrolled": false
   },
   "outputs": [],
   "source": [
    "#Kucerka et al., 2008 Biophys. J. 95: 2356-2367\n",
    "#https://dx.doi.org/10.1529%2Fbiophysj.108.132662\n",
    "import math\n",
    "mol_logp = sum([x[0] for x in contribs])\n",
    "WH_scores = []\n",
    "for pdb_file in sorted(glob.glob('./result_pdb/ligand_*.pdb'), key = lambda x: int(x.replace(\"./result_pdb/ligand_\",\"\").replace(\".pdb\",\"\"))):\n",
    "    pose = Chem.MolFromPDBFile(pdb_file)\n",
    "    coordinates = [a for a in pose.GetConformers()[0].GetPositions()]\n",
    "    WH_score = []\n",
    "    for coor, cont in zip(coordinates, contribs):\n",
    "        if coor[2] <0 :\n",
    "            sigmoid = -(1/ (1 + math.e**-( coor[2]+membrane_pos)))\n",
    "            WH_score.append(sigmoid *cont[0])\n",
    "        elif coor[2] >= 0 :\n",
    "            sigmoid = -(1/ (1 + math.e**( coor[2]-membrane_pos)))\n",
    "            WH_score.append(sigmoid *cont[0])\n",
    "    WH_scores.append(sum(WH_score))\n",
    "    \n",
    "fig = plt.figure(figsize=(83/25.4, 60/25.4))\n",
    "\n",
    "plt.hist(logp_scores, bins=20, color=\"#EEEEEE\", edgecolor=\"black\", linewidth=0.5)\n",
    "plt.xlabel(\"WH score\")\n",
    "plt.ylabel(\"Count\")\n",
    "plt.tight_layout()\n",
    "plt.savefig(\"WH_score.pdf\", dpi=300)\n",
    "\n",
    "plt.show()\n",
    "#[print(i, s) for i,s in enumerate(scores)]\n",
    "\n",
    "np.savetxt(\"WH_score.txt\", WH_scores)"
   ]
  },
  {
   "cell_type": "code",
   "execution_count": null,
   "id": "b1db77fa",
   "metadata": {
    "scrolled": false
   },
   "outputs": [],
   "source": [
    "multiple_score = [v+(2.303*(8.314*300)*(logp)/4.184/1000)  for v, logp in zip(vina_score, logp_scores)]\n",
    "fig = plt.figure(figsize=(83/25.4, 60/25.4))\n",
    "plt.hist(multiple_score, bins=20, color=\"#EEEEEE\", edgecolor=\"black\", linewidth=0.5)\n",
    "plt.xlabel(\"LoCoMock score\")\n",
    "plt.ylabel(\"Count\")\n",
    "plt.tight_layout()\n",
    "plt.savefig(\"LoCoMock_score.pdf\", dpi=300)\n",
    "\n",
    "plt.show()\n",
    "\n",
    "np.savetxt(\"locomock_score.txt\", multiple_score)"
   ]
  },
  {
   "cell_type": "code",
   "execution_count": null,
   "id": "0c397068",
   "metadata": {},
   "outputs": [],
   "source": [
    "WH_scores = np.loadtxt(\"WH_score.txt\")"
   ]
  },
  {
   "cell_type": "code",
   "execution_count": null,
   "id": "933f0546",
   "metadata": {},
   "outputs": [],
   "source": [
    "vina_score = np.loadtxt(\"vina_energy.txt\")"
   ]
  },
  {
   "cell_type": "code",
   "execution_count": null,
   "id": "f7a445c7",
   "metadata": {},
   "outputs": [],
   "source": [
    "multiple_score = np.loadtxt(\"locomock_score.txt\")"
   ]
  },
  {
   "cell_type": "code",
   "execution_count": null,
   "id": "9f57b53c",
   "metadata": {},
   "outputs": [],
   "source": [
    "num_best = 10"
   ]
  },
  {
   "cell_type": "markdown",
   "id": "815d1189",
   "metadata": {},
   "source": [
    "# Best poses by LoCoMock"
   ]
  },
  {
   "cell_type": "code",
   "execution_count": null,
   "id": "dfc0bcd3",
   "metadata": {},
   "outputs": [],
   "source": [
    "view = py3Dmol.view()\n",
    "view.removeAllModels()\n",
    "view.setViewStyle({'style':'outline','color':'black','width':0.1})\n",
    "\n",
    "view.addModel(open('protein_H.pdb','r').read(),format='pdb')\n",
    "Prot=view.getModel()\n",
    "Prot.setStyle({'cartoon':{'arrows':True, 'tubes':True, 'style':'oval', 'color':'white'}})\n",
    "view.addSurface(py3Dmol.VDW,{'opacity':0.6,'color':'white'})\n",
    "\n",
    "for i in sorted(enumerate(multiple_score), key=lambda x: x[1], reverse=False)[:num_best]:\n",
    "    view.addModel(open(f\"./result_pdb/ligand_{i[0]}.pdb\",'r').read(),format='mol2')\n",
    "    ref_m = view.getModel()\n",
    "    ref_m.setStyle({},{'stick':{'colorscheme':'greenCarbon','radius':0.2}})\n",
    "\n",
    "view.zoomTo()\n",
    "view.show()"
   ]
  },
  {
   "cell_type": "markdown",
   "id": "5b5a6918",
   "metadata": {},
   "source": [
    "# Best poses by Vina"
   ]
  },
  {
   "cell_type": "code",
   "execution_count": null,
   "id": "afff126d",
   "metadata": {
    "scrolled": false
   },
   "outputs": [],
   "source": [
    "view = py3Dmol.view()\n",
    "view.removeAllModels()\n",
    "view.setViewStyle({'style':'outline','color':'black','width':0.1})\n",
    "\n",
    "view.addModel(open('protein_H.pdb','r').read(),format='pdb')\n",
    "Prot=view.getModel()\n",
    "Prot.setStyle({'cartoon':{'arrows':True, 'tubes':True, 'style':'oval', 'color':'white'}})\n",
    "view.addSurface(py3Dmol.VDW,{'opacity':0.6,'color':'white'})\n",
    "\n",
    "for i in sorted(enumerate(vina_score), key=lambda x: x[1])[:num_best]:\n",
    "    view.addModel(open(f\"./result_pdb/ligand_{i[0]}.pdb\",'r').read(),format='mol2')\n",
    "    ref_m = view.getModel()\n",
    "    ref_m.setStyle({},{'stick':{'colorscheme':'greenCarbon','radius':0.2}})\n",
    "\n",
    "view.zoomTo()\n",
    "view.show()"
   ]
  },
  {
   "cell_type": "markdown",
   "id": "5f4fdadf",
   "metadata": {},
   "source": [
    "# Export models"
   ]
  },
  {
   "cell_type": "code",
   "execution_count": null,
   "id": "d6e82356",
   "metadata": {},
   "outputs": [],
   "source": [
    "file_list = \"\"\n",
    "for i, s in enumerate(multiple_score):\n",
    "    file_list += f\" ./result_pdb/ligand_{i}.pdb\"\n",
    "!cat $file_list | sed -e \"s/END/ENDMDL/g\" > ./ligand_all.pdb\n",
    "\n",
    "file_list = \"\"\n",
    "for i in sorted(enumerate(multiple_score), key=lambda x: x[1], reverse=False)[:10]:\n",
    "    file_list += f\" ./result_pdb/ligand_{i[0]}.pdb\"\n",
    "!cat $file_list | sed -e \"s/END/ENDMDL/g\" > ./ligand_best.pdb\n",
    "\n",
    "file_list = \"\"\n",
    "for i in sorted(enumerate(multiple_score), key=lambda x: x[1], reverse=False)[-10:]:\n",
    "    file_list += f\" ./result_pdb/ligand_{i[0]}.pdb\"\n",
    "!cat $file_list | sed -e \"s/END/ENDMDL/g\" > ./ligand_worst.pdb"
   ]
  },
  {
   "cell_type": "code",
   "execution_count": null,
   "id": "7d989983",
   "metadata": {},
   "outputs": [],
   "source": [
    "file_list = \"\"\n",
    "for i in sorted(enumerate(multiple_score), key=lambda x: x[1], reverse=False)[:num_best]:\n",
    "    file_list += f\" ./result_pdb/ligand_{i[0]}.pdb\"\n",
    "!cat $file_list | sed -e \"s/END/ENDMDL/g\" > ./ligand_best_LoCoMock.pdb\n",
    "\n",
    "file_list = \"\"\n",
    "best_100_list = []\n",
    "for i in sorted(enumerate(vina_score), key=lambda x: x[1], reverse=False)[:num_best]:\n",
    "    file_list += f\" ./result_pdb/ligand_{i[0]}.pdb\"\n",
    "!cat $file_list | sed -e \"s/END/ENDMDL/g\" > ./ligand_best_vina.pdb"
   ]
  },
  {
   "cell_type": "code",
   "execution_count": null,
   "id": "045a2df7",
   "metadata": {},
   "outputs": [],
   "source": []
  },
  {
   "cell_type": "code",
   "execution_count": null,
   "id": "d3ce6a90",
   "metadata": {},
   "outputs": [],
   "source": []
  }
 ],
 "metadata": {
  "kernelspec": {
   "display_name": "Python 3 (ipykernel)",
   "language": "python",
   "name": "python3"
  },
  "language_info": {
   "codemirror_mode": {
    "name": "ipython",
    "version": 3
   },
   "file_extension": ".py",
   "mimetype": "text/x-python",
   "name": "python",
   "nbconvert_exporter": "python",
   "pygments_lexer": "ipython3",
   "version": "3.10.6"
  },
  "toc": {
   "base_numbering": 1,
   "nav_menu": {},
   "number_sections": true,
   "sideBar": true,
   "skip_h1_title": false,
   "title_cell": "Table of Contents",
   "title_sidebar": "Contents",
   "toc_cell": false,
   "toc_position": {},
   "toc_section_display": true,
   "toc_window_display": false
  }
 },
 "nbformat": 4,
 "nbformat_minor": 5
}
